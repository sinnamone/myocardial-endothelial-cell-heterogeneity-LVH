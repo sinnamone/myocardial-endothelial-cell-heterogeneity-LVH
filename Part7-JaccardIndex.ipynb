{
 "cells": [
  {
   "cell_type": "code",
   "execution_count": 2,
   "id": "33c782cb",
   "metadata": {},
   "outputs": [],
   "source": [
    "import pandas as pd"
   ]
  },
  {
   "cell_type": "code",
   "execution_count": 4,
   "id": "48d9ff79",
   "metadata": {},
   "outputs": [],
   "source": [
    "MicrovascularEC = pd.read_excel('./TAC_vs_SHAM.xlsx', sheet_name='MicrovascularEC')\n",
    "CardiomyocyteLikeEC = pd.read_excel('./TAC_vs_SHAM.xlsx', sheet_name='CardiomyocyteLikeEC')\n",
    "VenousStalksEC = pd.read_excel('./TAC_vs_SHAM.xlsx', sheet_name='VenousStalksEC')\n",
    "LymphaticEC = pd.read_excel('./TAC_vs_SHAM.xlsx', sheet_name='LymphaticEC')\n",
    "EndocardialEC = pd.read_excel('./TAC_vs_SHAM.xlsx', sheet_name='EndocardialEC')\n",
    "ArterialEC = pd.read_excel('./TAC_vs_SHAM.xlsx', sheet_name='ArterialEC')\n",
    "ValvularEC = pd.read_excel('./TAC_vs_SHAM.xlsx', sheet_name='ValvularEC')\n",
    "LymphaticValvularEC = pd.read_excel('./TAC_vs_SHAM.xlsx', sheet_name='LymphaticValvularEC')\n",
    "InterferonEC = pd.read_excel('./TAC_vs_SHAM.xlsx', sheet_name='InterferonEC')\n",
    "ProliferativeEC = pd.read_excel('./TAC_vs_SHAM.xlsx', sheet_name='ProliferativeEC')\n",
    "VenousPostCapillaryVeinEC = pd.read_excel('./TAC_vs_SHAM.xlsx', sheet_name='VenousPostCapillaryVeinEC')\n",
    "AorticEC = pd.read_excel('./TAC_vs_SHAM.xlsx', sheet_name='AorticEC')\n",
    "MuralLikeEC = pd.read_excel('./TAC_vs_SHAM.xlsx', sheet_name='MuralLikeEC')\n",
    "ImmuneLikeEC = pd.read_excel('./TAC_vs_SHAM.xlsx', sheet_name='ImmuneLikeEC')\n",
    "FibroblastLikeEC = pd.read_excel('./TAC_vs_SHAM.xlsx', sheet_name='FibroblastLikeEC')"
   ]
  },
  {
   "cell_type": "code",
   "execution_count": 5,
   "id": "8bbc8fa1",
   "metadata": {},
   "outputs": [],
   "source": [
    "CardiomyocyteLikeEC_qval =CardiomyocyteLikeEC.loc[CardiomyocyteLikeEC['pvals_adj']<0.05]\n",
    "MicrovascularEC_qval =MicrovascularEC.loc[MicrovascularEC['pvals_adj']<0.05]\n",
    "VenousStalksEC_qval =VenousStalksEC.loc[VenousStalksEC['pvals_adj']<0.05]\n",
    "LymphaticEC_qval =LymphaticEC.loc[LymphaticEC['pvals_adj']<0.05]\n",
    "EndocardialEC_qval =EndocardialEC.loc[EndocardialEC['pvals_adj']<0.05]\n",
    "ArterialEC_qval =ArterialEC.loc[ArterialEC['pvals_adj']<0.05]\n",
    "ValvularEC_qval =ValvularEC.loc[ValvularEC['pvals_adj']<0.05]\n",
    "LymphaticValvularEC_qval =LymphaticValvularEC.loc[LymphaticValvularEC['pvals_adj']<0.05]\n",
    "InterferonEC_qval =InterferonEC.loc[InterferonEC['pvals_adj']<0.05]\n",
    "ProliferativeEC_qval =ProliferativeEC.loc[ProliferativeEC['pvals_adj']<0.05]\n",
    "VenousPostCapillaryVeinEC_qval =VenousPostCapillaryVeinEC.loc[VenousPostCapillaryVeinEC['pvals_adj']<0.05]\n",
    "AorticEC_qval =AorticEC.loc[AorticEC['pvals_adj']<0.05]\n",
    "MuralLikeEC_qval =MuralLikeEC.loc[MuralLikeEC['pvals_adj']<0.05]\n",
    "ImmuneLikeEC_qval =ImmuneLikeEC.loc[ImmuneLikeEC['pvals_adj']<0.05]\n",
    "FibroblastLikeEC_qval =FibroblastLikeEC.loc[FibroblastLikeEC['pvals_adj']<0.05]"
   ]
  },
  {
   "cell_type": "code",
   "execution_count": 6,
   "id": "c8e38f19",
   "metadata": {},
   "outputs": [
    {
     "data": {
      "text/plain": [
       "(302, 7)"
      ]
     },
     "execution_count": 6,
     "metadata": {},
     "output_type": "execute_result"
    }
   ],
   "source": [
    "CardiomyocyteLikeEC_qval.shape"
   ]
  },
  {
   "cell_type": "code",
   "execution_count": 7,
   "id": "6cdf9e98",
   "metadata": {},
   "outputs": [
    {
     "data": {
      "text/plain": [
       "(5901, 7)"
      ]
     },
     "execution_count": 7,
     "metadata": {},
     "output_type": "execute_result"
    }
   ],
   "source": [
    "MicrovascularEC_qval.shape"
   ]
  },
  {
   "cell_type": "code",
   "execution_count": 8,
   "id": "4fa6b8b6",
   "metadata": {},
   "outputs": [
    {
     "data": {
      "text/plain": [
       "(3360, 7)"
      ]
     },
     "execution_count": 8,
     "metadata": {},
     "output_type": "execute_result"
    }
   ],
   "source": [
    "VenousStalksEC_qval.shape"
   ]
  },
  {
   "cell_type": "code",
   "execution_count": 9,
   "id": "73ac4234",
   "metadata": {},
   "outputs": [
    {
     "data": {
      "text/plain": [
       "(2264, 7)"
      ]
     },
     "execution_count": 9,
     "metadata": {},
     "output_type": "execute_result"
    }
   ],
   "source": [
    "LymphaticEC_qval.shape"
   ]
  },
  {
   "cell_type": "code",
   "execution_count": 10,
   "id": "0076abff",
   "metadata": {},
   "outputs": [
    {
     "data": {
      "text/plain": [
       "(2328, 7)"
      ]
     },
     "execution_count": 10,
     "metadata": {},
     "output_type": "execute_result"
    }
   ],
   "source": [
    "EndocardialEC_qval.shape"
   ]
  },
  {
   "cell_type": "code",
   "execution_count": 10,
   "id": "fb909e2a",
   "metadata": {},
   "outputs": [
    {
     "data": {
      "text/plain": [
       "(926, 7)"
      ]
     },
     "execution_count": 10,
     "metadata": {},
     "output_type": "execute_result"
    }
   ],
   "source": [
    "C5_qval.shape"
   ]
  },
  {
   "cell_type": "code",
   "execution_count": 11,
   "id": "6b2ef15a",
   "metadata": {},
   "outputs": [
    {
     "data": {
      "text/plain": [
       "(2041, 7)"
      ]
     },
     "execution_count": 11,
     "metadata": {},
     "output_type": "execute_result"
    }
   ],
   "source": [
    "C6_qval.shape"
   ]
  },
  {
   "cell_type": "code",
   "execution_count": 12,
   "id": "5bba6d02",
   "metadata": {},
   "outputs": [
    {
     "data": {
      "text/plain": [
       "(851, 7)"
      ]
     },
     "execution_count": 12,
     "metadata": {},
     "output_type": "execute_result"
    }
   ],
   "source": [
    "C7_qval.shape"
   ]
  },
  {
   "cell_type": "code",
   "execution_count": 13,
   "id": "16080a77",
   "metadata": {},
   "outputs": [
    {
     "data": {
      "text/plain": [
       "(117, 7)"
      ]
     },
     "execution_count": 13,
     "metadata": {},
     "output_type": "execute_result"
    }
   ],
   "source": [
    "C8_qval.shape"
   ]
  },
  {
   "cell_type": "code",
   "execution_count": 14,
   "id": "a5a40365",
   "metadata": {},
   "outputs": [
    {
     "data": {
      "text/plain": [
       "(302, 7)"
      ]
     },
     "execution_count": 14,
     "metadata": {},
     "output_type": "execute_result"
    }
   ],
   "source": [
    "C9_qval.shape"
   ]
  },
  {
   "cell_type": "code",
   "execution_count": 15,
   "id": "c0d73d90",
   "metadata": {},
   "outputs": [
    {
     "data": {
      "text/plain": [
       "(0, 7)"
      ]
     },
     "execution_count": 15,
     "metadata": {},
     "output_type": "execute_result"
    }
   ],
   "source": [
    "C10_qval.shape"
   ]
  },
  {
   "cell_type": "code",
   "execution_count": 16,
   "id": "2004282d",
   "metadata": {},
   "outputs": [
    {
     "data": {
      "text/plain": [
       "(1045, 7)"
      ]
     },
     "execution_count": 16,
     "metadata": {},
     "output_type": "execute_result"
    }
   ],
   "source": [
    "C11_qval.shape"
   ]
  },
  {
   "cell_type": "code",
   "execution_count": 17,
   "id": "6eeb3ce1",
   "metadata": {},
   "outputs": [
    {
     "data": {
      "text/plain": [
       "(207, 7)"
      ]
     },
     "execution_count": 17,
     "metadata": {},
     "output_type": "execute_result"
    }
   ],
   "source": [
    "C12_qval.shape"
   ]
  },
  {
   "cell_type": "code",
   "execution_count": 18,
   "id": "ac8ff3ff",
   "metadata": {},
   "outputs": [
    {
     "data": {
      "text/plain": [
       "(577, 7)"
      ]
     },
     "execution_count": 18,
     "metadata": {},
     "output_type": "execute_result"
    }
   ],
   "source": [
    "C13_qval.shape"
   ]
  },
  {
   "cell_type": "code",
   "execution_count": 19,
   "id": "a8246fb8",
   "metadata": {},
   "outputs": [
    {
     "data": {
      "text/plain": [
       "(112, 7)"
      ]
     },
     "execution_count": 19,
     "metadata": {},
     "output_type": "execute_result"
    }
   ],
   "source": [
    "C14_qval.shape"
   ]
  },
  {
   "cell_type": "code",
   "execution_count": 20,
   "id": "78d72fc2",
   "metadata": {},
   "outputs": [
    {
     "data": {
      "text/plain": [
       "(17, 7)"
      ]
     },
     "execution_count": 20,
     "metadata": {},
     "output_type": "execute_result"
    }
   ],
   "source": [
    "C15_qval.shape"
   ]
  },
  {
   "cell_type": "code",
   "execution_count": 21,
   "id": "4263b7cd",
   "metadata": {},
   "outputs": [
    {
     "data": {
      "text/plain": [
       "(72, 7)"
      ]
     },
     "execution_count": 21,
     "metadata": {},
     "output_type": "execute_result"
    }
   ],
   "source": [
    "C16_qval.shape"
   ]
  },
  {
   "cell_type": "code",
   "execution_count": 22,
   "id": "c19209f0",
   "metadata": {},
   "outputs": [
    {
     "data": {
      "text/plain": [
       "(198, 7)"
      ]
     },
     "execution_count": 22,
     "metadata": {},
     "output_type": "execute_result"
    }
   ],
   "source": [
    "C17_qval.shape"
   ]
  },
  {
   "cell_type": "code",
   "execution_count": null,
   "id": "21285d51",
   "metadata": {},
   "outputs": [],
   "source": []
  },
  {
   "cell_type": "code",
   "execution_count": 23,
   "id": "ed384004",
   "metadata": {},
   "outputs": [
    {
     "data": {
      "text/html": [
       "<div>\n",
       "<style scoped>\n",
       "    .dataframe tbody tr th:only-of-type {\n",
       "        vertical-align: middle;\n",
       "    }\n",
       "\n",
       "    .dataframe tbody tr th {\n",
       "        vertical-align: top;\n",
       "    }\n",
       "\n",
       "    .dataframe thead th {\n",
       "        text-align: right;\n",
       "    }\n",
       "</style>\n",
       "<table border=\"1\" class=\"dataframe\">\n",
       "  <thead>\n",
       "    <tr style=\"text-align: right;\">\n",
       "      <th></th>\n",
       "      <th>names</th>\n",
       "      <th>scores</th>\n",
       "      <th>logfoldchanges</th>\n",
       "      <th>pvals</th>\n",
       "      <th>pvals_adj</th>\n",
       "      <th>pct_nz_group</th>\n",
       "      <th>pct_nz_reference</th>\n",
       "    </tr>\n",
       "  </thead>\n",
       "  <tbody>\n",
       "    <tr>\n",
       "      <th>0</th>\n",
       "      <td>Serpinh1</td>\n",
       "      <td>14.591829</td>\n",
       "      <td>0.760141</td>\n",
       "      <td>3.165928e-48</td>\n",
       "      <td>5.613508e-44</td>\n",
       "      <td>0.998766</td>\n",
       "      <td>0.987952</td>\n",
       "    </tr>\n",
       "    <tr>\n",
       "      <th>1</th>\n",
       "      <td>Anxa2</td>\n",
       "      <td>14.531865</td>\n",
       "      <td>1.028654</td>\n",
       "      <td>7.611935e-48</td>\n",
       "      <td>6.748361e-44</td>\n",
       "      <td>0.989303</td>\n",
       "      <td>0.943775</td>\n",
       "    </tr>\n",
       "    <tr>\n",
       "      <th>2</th>\n",
       "      <td>Sparc</td>\n",
       "      <td>14.272430</td>\n",
       "      <td>0.620497</td>\n",
       "      <td>3.250479e-46</td>\n",
       "      <td>1.921142e-42</td>\n",
       "      <td>1.000000</td>\n",
       "      <td>1.000000</td>\n",
       "    </tr>\n",
       "    <tr>\n",
       "      <th>3</th>\n",
       "      <td>Cd81</td>\n",
       "      <td>13.977190</td>\n",
       "      <td>0.608057</td>\n",
       "      <td>2.148039e-44</td>\n",
       "      <td>9.521720e-41</td>\n",
       "      <td>0.999589</td>\n",
       "      <td>1.000000</td>\n",
       "    </tr>\n",
       "    <tr>\n",
       "      <th>4</th>\n",
       "      <td>Fxyd5</td>\n",
       "      <td>13.654620</td>\n",
       "      <td>1.518650</td>\n",
       "      <td>1.894751e-42</td>\n",
       "      <td>6.719165e-39</td>\n",
       "      <td>0.893026</td>\n",
       "      <td>0.614458</td>\n",
       "    </tr>\n",
       "    <tr>\n",
       "      <th>...</th>\n",
       "      <td>...</td>\n",
       "      <td>...</td>\n",
       "      <td>...</td>\n",
       "      <td>...</td>\n",
       "      <td>...</td>\n",
       "      <td>...</td>\n",
       "      <td>...</td>\n",
       "    </tr>\n",
       "    <tr>\n",
       "      <th>17726</th>\n",
       "      <td>Ets2</td>\n",
       "      <td>-8.838383</td>\n",
       "      <td>-0.749616</td>\n",
       "      <td>9.711420e-19</td>\n",
       "      <td>3.587358e-16</td>\n",
       "      <td>0.834396</td>\n",
       "      <td>0.927711</td>\n",
       "    </tr>\n",
       "    <tr>\n",
       "      <th>17727</th>\n",
       "      <td>Plcb4</td>\n",
       "      <td>-9.294952</td>\n",
       "      <td>-0.727184</td>\n",
       "      <td>1.472718e-20</td>\n",
       "      <td>6.528191e-18</td>\n",
       "      <td>0.874100</td>\n",
       "      <td>0.943775</td>\n",
       "    </tr>\n",
       "    <tr>\n",
       "      <th>17728</th>\n",
       "      <td>Rbm3</td>\n",
       "      <td>-11.203570</td>\n",
       "      <td>-0.927396</td>\n",
       "      <td>3.916244e-29</td>\n",
       "      <td>3.471946e-26</td>\n",
       "      <td>0.819996</td>\n",
       "      <td>0.943775</td>\n",
       "    </tr>\n",
       "    <tr>\n",
       "      <th>17729</th>\n",
       "      <td>Fxyd6</td>\n",
       "      <td>-11.223456</td>\n",
       "      <td>-1.498702</td>\n",
       "      <td>3.128026e-29</td>\n",
       "      <td>2.919107e-26</td>\n",
       "      <td>0.544332</td>\n",
       "      <td>0.779116</td>\n",
       "    </tr>\n",
       "    <tr>\n",
       "      <th>17730</th>\n",
       "      <td>Cldn5</td>\n",
       "      <td>-11.242416</td>\n",
       "      <td>-1.315102</td>\n",
       "      <td>2.523782e-29</td>\n",
       "      <td>2.486066e-26</td>\n",
       "      <td>0.765892</td>\n",
       "      <td>0.899598</td>\n",
       "    </tr>\n",
       "  </tbody>\n",
       "</table>\n",
       "<p>736 rows × 7 columns</p>\n",
       "</div>"
      ],
      "text/plain": [
       "          names     scores  logfoldchanges         pvals     pvals_adj  \\\n",
       "0      Serpinh1  14.591829        0.760141  3.165928e-48  5.613508e-44   \n",
       "1         Anxa2  14.531865        1.028654  7.611935e-48  6.748361e-44   \n",
       "2         Sparc  14.272430        0.620497  3.250479e-46  1.921142e-42   \n",
       "3          Cd81  13.977190        0.608057  2.148039e-44  9.521720e-41   \n",
       "4         Fxyd5  13.654620        1.518650  1.894751e-42  6.719165e-39   \n",
       "...         ...        ...             ...           ...           ...   \n",
       "17726      Ets2  -8.838383       -0.749616  9.711420e-19  3.587358e-16   \n",
       "17727     Plcb4  -9.294952       -0.727184  1.472718e-20  6.528191e-18   \n",
       "17728      Rbm3 -11.203570       -0.927396  3.916244e-29  3.471946e-26   \n",
       "17729     Fxyd6 -11.223456       -1.498702  3.128026e-29  2.919107e-26   \n",
       "17730     Cldn5 -11.242416       -1.315102  2.523782e-29  2.486066e-26   \n",
       "\n",
       "       pct_nz_group  pct_nz_reference  \n",
       "0          0.998766          0.987952  \n",
       "1          0.989303          0.943775  \n",
       "2          1.000000          1.000000  \n",
       "3          0.999589          1.000000  \n",
       "4          0.893026          0.614458  \n",
       "...             ...               ...  \n",
       "17726      0.834396          0.927711  \n",
       "17727      0.874100          0.943775  \n",
       "17728      0.819996          0.943775  \n",
       "17729      0.544332          0.779116  \n",
       "17730      0.765892          0.899598  \n",
       "\n",
       "[736 rows x 7 columns]"
      ]
     },
     "execution_count": 23,
     "metadata": {},
     "output_type": "execute_result"
    }
   ],
   "source": [
    "CardiomyocyteLikeEC_qval =CardiomyocyteLikeEC.loc[CardiomyocyteLikeEC['pvals_adj']<0.05]\n",
    "MicrovascularEC_qval =MicrovascularEC.loc[MicrovascularEC['pvals_adj']<0.05]\n",
    "VenousStalksEC_qval =VenousStalksEC.loc[VenousStalksEC['pvals_adj']<0.05]\n",
    "LymphaticEC_qval =LymphaticEC.loc[LymphaticEC['pvals_adj']<0.05]\n",
    "EndocardialEC_qval =EndocardialEC.loc[EndocardialEC['pvals_adj']<0.05]\n",
    "ArterialEC_qval =ArterialEC.loc[ArterialEC['pvals_adj']<0.05]\n",
    "ValvularEC_qval =ValvularEC.loc[ValvularEC['pvals_adj']<0.05]\n",
    "LymphaticValvularEC_qval =LymphaticValvularEC.loc[LymphaticValvularEC['pvals_adj']<0.05]\n",
    "InterferonEC_qval =InterferonEC.loc[InterferonEC['pvals_adj']<0.05]\n",
    "ProliferativeEC_qval =ProliferativeEC.loc[ProliferativeEC['pvals_adj']<0.05]\n",
    "VenousPostCapillaryVeinEC_qval =VenousPostCapillaryVeinEC.loc[VenousPostCapillaryVeinEC['pvals_adj']<0.05]\n",
    "AorticEC_qval =AorticEC.loc[AorticEC['pvals_adj']<0.05]\n",
    "MuralLikeEC_qval =MuralLikeEC.loc[MuralLikeEC['pvals_adj']<0.05]\n",
    "ImmuneLikeEC_qval =ImmuneLikeEC.loc[ImmuneLikeEC['pvals_adj']<0.05]\n",
    "FibroblastLikeEC_qval =FibroblastLikeEC.loc[FibroblastLikeEC['pvals_adj']<0.05]"
   ]
  },
  {
   "cell_type": "code",
   "execution_count": 18,
   "id": "5d04f6e7",
   "metadata": {},
   "outputs": [],
   "source": [
    "tmp = pd.merge(CardiomyocyteLikeEC_qval[['names','scores']],MicrovascularEC_qval[['names','scores']],on=\"names\",how='outer',\n",
    "              suffixes=('_CardiomyocyteLikeEC', '_MicrovascularEC'))"
   ]
  },
  {
   "cell_type": "code",
   "execution_count": 19,
   "id": "55881601",
   "metadata": {},
   "outputs": [],
   "source": [
    "tmp1 = pd.merge(tmp,VenousStalksEC_qval[['names','scores']],on=\"names\",how='outer')"
   ]
  },
  {
   "cell_type": "code",
   "execution_count": 20,
   "id": "aca06cd6",
   "metadata": {},
   "outputs": [],
   "source": [
    "tmp2 = pd.merge(tmp1,LymphaticEC_qval[['names','scores']],on=\"names\",how='outer',\n",
    "               suffixes=('_VenousStalksEC', '_LymphaticEC'))"
   ]
  },
  {
   "cell_type": "code",
   "execution_count": 21,
   "id": "7b0f7f78",
   "metadata": {},
   "outputs": [],
   "source": [
    "tmp3 = pd.merge(tmp2,EndocardialEC_qval[['names','scores']],on=\"names\",how='outer')"
   ]
  },
  {
   "cell_type": "code",
   "execution_count": 23,
   "id": "b90ef869",
   "metadata": {},
   "outputs": [],
   "source": [
    "tmp4 = pd.merge(tmp3,ArterialEC_qval[['names','scores']],on=\"names\",how='outer',\n",
    "               suffixes=('_EndocardialEC', '_ArterialEC'))"
   ]
  },
  {
   "cell_type": "code",
   "execution_count": 24,
   "id": "18aa06f1",
   "metadata": {},
   "outputs": [],
   "source": [
    "tmp5 = pd.merge(tmp4,ValvularEC_qval[['names','scores']],on=\"names\",how='outer')"
   ]
  },
  {
   "cell_type": "code",
   "execution_count": 25,
   "id": "fb572bd6",
   "metadata": {},
   "outputs": [],
   "source": [
    "tmp6 = pd.merge(tmp5,LymphaticValvularEC_qval[['names','scores']],on=\"names\",how='outer',\n",
    "               suffixes=('_ValvularEC', '_LymphaticValvularEC'))"
   ]
  },
  {
   "cell_type": "code",
   "execution_count": 26,
   "id": "fb7287e4",
   "metadata": {},
   "outputs": [],
   "source": [
    "tmp7 = pd.merge(tmp6,InterferonEC_qval[['names','scores']],on=\"names\",how='outer')"
   ]
  },
  {
   "cell_type": "code",
   "execution_count": 27,
   "id": "ff8c9f3e",
   "metadata": {},
   "outputs": [],
   "source": [
    "tmp8 = pd.merge(tmp7,ProliferativeEC_qval[['names','scores']],on=\"names\",how='outer',\n",
    "               suffixes=('_InterferonEC', '_ProliferativeEC'))"
   ]
  },
  {
   "cell_type": "code",
   "execution_count": 28,
   "id": "d46f679c",
   "metadata": {},
   "outputs": [],
   "source": [
    "tmp9 = pd.merge(tmp8,VenousPostCapillaryVeinEC_qval[['names','scores']],on=\"names\",how='outer')"
   ]
  },
  {
   "cell_type": "code",
   "execution_count": 29,
   "id": "7a9698a8",
   "metadata": {},
   "outputs": [],
   "source": [
    "tmp10 = pd.merge(tmp9,AorticEC_qval[['names','scores']],on=\"names\",how='outer',\n",
    "               suffixes=('_VenousPostCapillaryVeinEC', '_AorticEC'))"
   ]
  },
  {
   "cell_type": "code",
   "execution_count": 30,
   "id": "b686712b",
   "metadata": {},
   "outputs": [],
   "source": [
    "tmp11 = pd.merge(tmp10,MuralLikeEC_qval[['names','scores']],on=\"names\",how='outer')"
   ]
  },
  {
   "cell_type": "code",
   "execution_count": 31,
   "id": "82b14f3d",
   "metadata": {},
   "outputs": [],
   "source": [
    "tmp12 = pd.merge(tmp11,ImmuneLikeEC_qval[['names','scores']],on=\"names\",how='outer',\n",
    "               suffixes=('_MuralLikeEC', '_ImmuneLikeEC'))"
   ]
  },
  {
   "cell_type": "code",
   "execution_count": 32,
   "id": "eb89ef3a",
   "metadata": {},
   "outputs": [],
   "source": [
    "tmp13 = pd.merge(tmp12,FibroblastLikeEC_qval[['names','scores']],on=\"names\",how='outer')"
   ]
  },
  {
   "cell_type": "code",
   "execution_count": 36,
   "id": "9a195dd9-95be-48bc-b251-36f33426ae6f",
   "metadata": {},
   "outputs": [],
   "source": [
    "tmp13 = tmp13.rename(columns={'scores':'scores_FibroblastLikeEC'})"
   ]
  },
  {
   "cell_type": "code",
   "execution_count": 38,
   "id": "60524cff",
   "metadata": {},
   "outputs": [],
   "source": [
    "tmp13 = tmp13.set_index('names')"
   ]
  },
  {
   "cell_type": "code",
   "execution_count": 39,
   "id": "fbe12c28",
   "metadata": {},
   "outputs": [],
   "source": [
    "from sklearn.metrics.pairwise import pairwise_distances"
   ]
  },
  {
   "cell_type": "code",
   "execution_count": 40,
   "id": "a0705c73",
   "metadata": {},
   "outputs": [],
   "source": [
    "tmp13 = tmp13.fillna(0)"
   ]
  },
  {
   "cell_type": "code",
   "execution_count": 41,
   "id": "006ff81f",
   "metadata": {},
   "outputs": [
    {
     "name": "stderr",
     "output_type": "stream",
     "text": [
      "/home/lugli/spuccio/anaconda3/envs/scanpy19/lib/python3.10/site-packages/sklearn/metrics/pairwise.py:2025: DataConversionWarning: Data was converted to boolean for metric jaccard\n",
      "  warnings.warn(msg, DataConversionWarning)\n"
     ]
    }
   ],
   "source": [
    "jaccard = pairwise_distances(tmp13.T.to_numpy(), metric='jaccard')"
   ]
  },
  {
   "cell_type": "code",
   "execution_count": 42,
   "id": "b96d85e6",
   "metadata": {},
   "outputs": [],
   "source": [
    "lista = tmp13.columns"
   ]
  },
  {
   "cell_type": "code",
   "execution_count": 43,
   "id": "2953b72b",
   "metadata": {},
   "outputs": [],
   "source": [
    "lista2 =[]\n",
    "for _ in lista:\n",
    "    lista2.append(_.split(\"_\")[-1])"
   ]
  },
  {
   "cell_type": "code",
   "execution_count": 44,
   "id": "e87b1e49",
   "metadata": {},
   "outputs": [],
   "source": [
    "jaccard2 = pd.DataFrame(jaccard,columns=lista2,index=lista2)"
   ]
  },
  {
   "cell_type": "code",
   "execution_count": 45,
   "id": "47385af4",
   "metadata": {},
   "outputs": [],
   "source": [
    "import seaborn as sns\n",
    "import matplotlib.pyplot as plt"
   ]
  },
  {
   "cell_type": "code",
   "execution_count": 48,
   "id": "f8464643",
   "metadata": {},
   "outputs": [],
   "source": [
    "import numpy as np\n",
    "mask = np.triu(np.ones_like(jaccard2, dtype=bool))"
   ]
  },
  {
   "cell_type": "code",
   "execution_count": 52,
   "id": "97d94713-3ab9-4c28-a42e-faab7dede357",
   "metadata": {},
   "outputs": [],
   "source": [
    "import scanpy as sc"
   ]
  },
  {
   "cell_type": "code",
   "execution_count": 53,
   "id": "e2897b97-d057-44cd-98e2-42f29916c2c5",
   "metadata": {},
   "outputs": [],
   "source": [
    "sc.set_figure_params(dpi=100)"
   ]
  },
  {
   "cell_type": "code",
   "execution_count": 62,
   "id": "a0dbb6de",
   "metadata": {},
   "outputs": [
    {
     "data": {
      "image/png": "[encoded data removed]",
      "text/plain": [
       "<Figure size 800x700 with 2 Axes>"
      ]
     },
     "metadata": {
      "image/png": {
       "height": 739,
       "width": 821
      }
     },
     "output_type": "display_data"
    }
   ],
   "source": [
    "f, ax = plt.subplots(figsize=(8, 7))\n",
    "sns.set_theme(style='white')\n",
    "cmap = sns.diverging_palette(230, 20, as_cmap=True)\n",
    "sns.heatmap(jaccard2,  vmax=1, vmin=0.4,mask=mask,\n",
    "            square=True, linewidths=.5, cbar_kws={\"shrink\": .5})\n",
    "plt.savefig(\"jaccard_4.pdf\",dpi=200,format=\"pdf\",bbox_inches='tight')"
   ]
  },
  {
   "cell_type": "code",
   "execution_count": 57,
   "id": "818312a6",
   "metadata": {},
   "outputs": [
    {
     "data": {
      "text/html": [
       "<div>\n",
       "<style scoped>\n",
       "    .dataframe tbody tr th:only-of-type {\n",
       "        vertical-align: middle;\n",
       "    }\n",
       "\n",
       "    .dataframe tbody tr th {\n",
       "        vertical-align: top;\n",
       "    }\n",
       "\n",
       "    .dataframe thead th {\n",
       "        text-align: right;\n",
       "    }\n",
       "</style>\n",
       "<table border=\"1\" class=\"dataframe\">\n",
       "  <thead>\n",
       "    <tr style=\"text-align: right;\">\n",
       "      <th></th>\n",
       "      <th>scores_CardiomyocyteLikeEC</th>\n",
       "      <th>scores_MicrovascularEC</th>\n",
       "      <th>scores_VenousStalksEC</th>\n",
       "      <th>scores_LymphaticEC</th>\n",
       "      <th>scores_EndocardialEC</th>\n",
       "      <th>scores_ArterialEC</th>\n",
       "      <th>scores_ValvularEC</th>\n",
       "      <th>scores_LymphaticValvularEC</th>\n",
       "      <th>scores_InterferonEC</th>\n",
       "      <th>scores_ProliferativeEC</th>\n",
       "      <th>scores_VenousPostCapillaryVeinEC</th>\n",
       "      <th>scores_AorticEC</th>\n",
       "      <th>scores_MuralLikeEC</th>\n",
       "      <th>scores_ImmuneLikeEC</th>\n",
       "      <th>scores_FibroblastLikeEC</th>\n",
       "    </tr>\n",
       "    <tr>\n",
       "      <th>names</th>\n",
       "      <th></th>\n",
       "      <th></th>\n",
       "      <th></th>\n",
       "      <th></th>\n",
       "      <th></th>\n",
       "      <th></th>\n",
       "      <th></th>\n",
       "      <th></th>\n",
       "      <th></th>\n",
       "      <th></th>\n",
       "      <th></th>\n",
       "      <th></th>\n",
       "      <th></th>\n",
       "      <th></th>\n",
       "      <th></th>\n",
       "    </tr>\n",
       "  </thead>\n",
       "  <tbody>\n",
       "    <tr>\n",
       "      <th>Sparc</th>\n",
       "      <td>10.850644</td>\n",
       "      <td>49.669754</td>\n",
       "      <td>35.443634</td>\n",
       "      <td>13.794226</td>\n",
       "      <td>23.725945</td>\n",
       "      <td>34.431816</td>\n",
       "      <td>11.789704</td>\n",
       "      <td>6.420963</td>\n",
       "      <td>18.939991</td>\n",
       "      <td>6.022847</td>\n",
       "      <td>12.296839</td>\n",
       "      <td>15.438320</td>\n",
       "      <td>16.502468</td>\n",
       "      <td>5.121563</td>\n",
       "      <td>8.048525</td>\n",
       "    </tr>\n",
       "    <tr>\n",
       "      <th>Serpinh1</th>\n",
       "      <td>10.591796</td>\n",
       "      <td>47.830566</td>\n",
       "      <td>27.627607</td>\n",
       "      <td>16.416933</td>\n",
       "      <td>29.590849</td>\n",
       "      <td>30.336405</td>\n",
       "      <td>15.523837</td>\n",
       "      <td>10.063084</td>\n",
       "      <td>18.112280</td>\n",
       "      <td>5.035220</td>\n",
       "      <td>11.236372</td>\n",
       "      <td>11.342622</td>\n",
       "      <td>16.123016</td>\n",
       "      <td>6.537605</td>\n",
       "      <td>8.994405</td>\n",
       "    </tr>\n",
       "    <tr>\n",
       "      <th>Anxa2</th>\n",
       "      <td>9.975810</td>\n",
       "      <td>41.623978</td>\n",
       "      <td>19.083776</td>\n",
       "      <td>13.092895</td>\n",
       "      <td>13.881956</td>\n",
       "      <td>26.013739</td>\n",
       "      <td>11.577099</td>\n",
       "      <td>7.480252</td>\n",
       "      <td>16.907127</td>\n",
       "      <td>7.691480</td>\n",
       "      <td>8.526031</td>\n",
       "      <td>9.719863</td>\n",
       "      <td>14.026327</td>\n",
       "      <td>5.469963</td>\n",
       "      <td>4.333383</td>\n",
       "    </tr>\n",
       "    <tr>\n",
       "      <th>Vim</th>\n",
       "      <td>8.835375</td>\n",
       "      <td>43.635468</td>\n",
       "      <td>15.685022</td>\n",
       "      <td>11.770029</td>\n",
       "      <td>22.299086</td>\n",
       "      <td>31.341988</td>\n",
       "      <td>7.392242</td>\n",
       "      <td>6.020668</td>\n",
       "      <td>18.584497</td>\n",
       "      <td>0.000000</td>\n",
       "      <td>5.883594</td>\n",
       "      <td>10.318389</td>\n",
       "      <td>15.768180</td>\n",
       "      <td>4.788779</td>\n",
       "      <td>4.242214</td>\n",
       "    </tr>\n",
       "    <tr>\n",
       "      <th>Vwa1</th>\n",
       "      <td>8.091841</td>\n",
       "      <td>38.005714</td>\n",
       "      <td>20.081060</td>\n",
       "      <td>5.375652</td>\n",
       "      <td>5.262033</td>\n",
       "      <td>22.289207</td>\n",
       "      <td>2.950110</td>\n",
       "      <td>0.000000</td>\n",
       "      <td>13.031454</td>\n",
       "      <td>4.252837</td>\n",
       "      <td>6.146286</td>\n",
       "      <td>3.479859</td>\n",
       "      <td>9.861050</td>\n",
       "      <td>0.000000</td>\n",
       "      <td>0.000000</td>\n",
       "    </tr>\n",
       "    <tr>\n",
       "      <th>...</th>\n",
       "      <td>...</td>\n",
       "      <td>...</td>\n",
       "      <td>...</td>\n",
       "      <td>...</td>\n",
       "      <td>...</td>\n",
       "      <td>...</td>\n",
       "      <td>...</td>\n",
       "      <td>...</td>\n",
       "      <td>...</td>\n",
       "      <td>...</td>\n",
       "      <td>...</td>\n",
       "      <td>...</td>\n",
       "      <td>...</td>\n",
       "      <td>...</td>\n",
       "      <td>...</td>\n",
       "    </tr>\n",
       "    <tr>\n",
       "      <th>Pcolce2</th>\n",
       "      <td>0.000000</td>\n",
       "      <td>0.000000</td>\n",
       "      <td>0.000000</td>\n",
       "      <td>0.000000</td>\n",
       "      <td>0.000000</td>\n",
       "      <td>0.000000</td>\n",
       "      <td>0.000000</td>\n",
       "      <td>0.000000</td>\n",
       "      <td>0.000000</td>\n",
       "      <td>0.000000</td>\n",
       "      <td>0.000000</td>\n",
       "      <td>0.000000</td>\n",
       "      <td>0.000000</td>\n",
       "      <td>0.000000</td>\n",
       "      <td>-4.770235</td>\n",
       "    </tr>\n",
       "    <tr>\n",
       "      <th>Scn7a</th>\n",
       "      <td>0.000000</td>\n",
       "      <td>0.000000</td>\n",
       "      <td>0.000000</td>\n",
       "      <td>0.000000</td>\n",
       "      <td>0.000000</td>\n",
       "      <td>0.000000</td>\n",
       "      <td>0.000000</td>\n",
       "      <td>0.000000</td>\n",
       "      <td>0.000000</td>\n",
       "      <td>0.000000</td>\n",
       "      <td>0.000000</td>\n",
       "      <td>0.000000</td>\n",
       "      <td>0.000000</td>\n",
       "      <td>0.000000</td>\n",
       "      <td>-4.813920</td>\n",
       "    </tr>\n",
       "    <tr>\n",
       "      <th>Scara5</th>\n",
       "      <td>0.000000</td>\n",
       "      <td>0.000000</td>\n",
       "      <td>0.000000</td>\n",
       "      <td>0.000000</td>\n",
       "      <td>0.000000</td>\n",
       "      <td>0.000000</td>\n",
       "      <td>0.000000</td>\n",
       "      <td>0.000000</td>\n",
       "      <td>0.000000</td>\n",
       "      <td>0.000000</td>\n",
       "      <td>0.000000</td>\n",
       "      <td>0.000000</td>\n",
       "      <td>0.000000</td>\n",
       "      <td>0.000000</td>\n",
       "      <td>-5.514783</td>\n",
       "    </tr>\n",
       "    <tr>\n",
       "      <th>G0s2</th>\n",
       "      <td>0.000000</td>\n",
       "      <td>0.000000</td>\n",
       "      <td>0.000000</td>\n",
       "      <td>0.000000</td>\n",
       "      <td>0.000000</td>\n",
       "      <td>0.000000</td>\n",
       "      <td>0.000000</td>\n",
       "      <td>0.000000</td>\n",
       "      <td>0.000000</td>\n",
       "      <td>0.000000</td>\n",
       "      <td>0.000000</td>\n",
       "      <td>0.000000</td>\n",
       "      <td>0.000000</td>\n",
       "      <td>0.000000</td>\n",
       "      <td>-5.778793</td>\n",
       "    </tr>\n",
       "    <tr>\n",
       "      <th>Enpp2</th>\n",
       "      <td>0.000000</td>\n",
       "      <td>0.000000</td>\n",
       "      <td>0.000000</td>\n",
       "      <td>0.000000</td>\n",
       "      <td>0.000000</td>\n",
       "      <td>0.000000</td>\n",
       "      <td>0.000000</td>\n",
       "      <td>0.000000</td>\n",
       "      <td>0.000000</td>\n",
       "      <td>0.000000</td>\n",
       "      <td>0.000000</td>\n",
       "      <td>0.000000</td>\n",
       "      <td>0.000000</td>\n",
       "      <td>0.000000</td>\n",
       "      <td>-5.926943</td>\n",
       "    </tr>\n",
       "  </tbody>\n",
       "</table>\n",
       "<p>6987 rows × 15 columns</p>\n",
       "</div>"
      ],
      "text/plain": [
       "          scores_CardiomyocyteLikeEC  scores_MicrovascularEC  \\\n",
       "names                                                          \n",
       "Sparc                      10.850644               49.669754   \n",
       "Serpinh1                   10.591796               47.830566   \n",
       "Anxa2                       9.975810               41.623978   \n",
       "Vim                         8.835375               43.635468   \n",
       "Vwa1                        8.091841               38.005714   \n",
       "...                              ...                     ...   \n",
       "Pcolce2                     0.000000                0.000000   \n",
       "Scn7a                       0.000000                0.000000   \n",
       "Scara5                      0.000000                0.000000   \n",
       "G0s2                        0.000000                0.000000   \n",
       "Enpp2                       0.000000                0.000000   \n",
       "\n",
       "          scores_VenousStalksEC  scores_LymphaticEC  scores_EndocardialEC  \\\n",
       "names                                                                       \n",
       "Sparc                 35.443634           13.794226             23.725945   \n",
       "Serpinh1              27.627607           16.416933             29.590849   \n",
       "Anxa2                 19.083776           13.092895             13.881956   \n",
       "Vim                   15.685022           11.770029             22.299086   \n",
       "Vwa1                  20.081060            5.375652              5.262033   \n",
       "...                         ...                 ...                   ...   \n",
       "Pcolce2                0.000000            0.000000              0.000000   \n",
       "Scn7a                  0.000000            0.000000              0.000000   \n",
       "Scara5                 0.000000            0.000000              0.000000   \n",
       "G0s2                   0.000000            0.000000              0.000000   \n",
       "Enpp2                  0.000000            0.000000              0.000000   \n",
       "\n",
       "          scores_ArterialEC  scores_ValvularEC  scores_LymphaticValvularEC  \\\n",
       "names                                                                        \n",
       "Sparc             34.431816          11.789704                    6.420963   \n",
       "Serpinh1          30.336405          15.523837                   10.063084   \n",
       "Anxa2             26.013739          11.577099                    7.480252   \n",
       "Vim               31.341988           7.392242                    6.020668   \n",
       "Vwa1              22.289207           2.950110                    0.000000   \n",
       "...                     ...                ...                         ...   \n",
       "Pcolce2            0.000000           0.000000                    0.000000   \n",
       "Scn7a              0.000000           0.000000                    0.000000   \n",
       "Scara5             0.000000           0.000000                    0.000000   \n",
       "G0s2               0.000000           0.000000                    0.000000   \n",
       "Enpp2              0.000000           0.000000                    0.000000   \n",
       "\n",
       "          scores_InterferonEC  scores_ProliferativeEC  \\\n",
       "names                                                   \n",
       "Sparc               18.939991                6.022847   \n",
       "Serpinh1            18.112280                5.035220   \n",
       "Anxa2               16.907127                7.691480   \n",
       "Vim                 18.584497                0.000000   \n",
       "Vwa1                13.031454                4.252837   \n",
       "...                       ...                     ...   \n",
       "Pcolce2              0.000000                0.000000   \n",
       "Scn7a                0.000000                0.000000   \n",
       "Scara5               0.000000                0.000000   \n",
       "G0s2                 0.000000                0.000000   \n",
       "Enpp2                0.000000                0.000000   \n",
       "\n",
       "          scores_VenousPostCapillaryVeinEC  scores_AorticEC  \\\n",
       "names                                                         \n",
       "Sparc                            12.296839        15.438320   \n",
       "Serpinh1                         11.236372        11.342622   \n",
       "Anxa2                             8.526031         9.719863   \n",
       "Vim                               5.883594        10.318389   \n",
       "Vwa1                              6.146286         3.479859   \n",
       "...                                    ...              ...   \n",
       "Pcolce2                           0.000000         0.000000   \n",
       "Scn7a                             0.000000         0.000000   \n",
       "Scara5                            0.000000         0.000000   \n",
       "G0s2                              0.000000         0.000000   \n",
       "Enpp2                             0.000000         0.000000   \n",
       "\n",
       "          scores_MuralLikeEC  scores_ImmuneLikeEC  scores_FibroblastLikeEC  \n",
       "names                                                                       \n",
       "Sparc              16.502468             5.121563                 8.048525  \n",
       "Serpinh1           16.123016             6.537605                 8.994405  \n",
       "Anxa2              14.026327             5.469963                 4.333383  \n",
       "Vim                15.768180             4.788779                 4.242214  \n",
       "Vwa1                9.861050             0.000000                 0.000000  \n",
       "...                      ...                  ...                      ...  \n",
       "Pcolce2             0.000000             0.000000                -4.770235  \n",
       "Scn7a               0.000000             0.000000                -4.813920  \n",
       "Scara5              0.000000             0.000000                -5.514783  \n",
       "G0s2                0.000000             0.000000                -5.778793  \n",
       "Enpp2               0.000000             0.000000                -5.926943  \n",
       "\n",
       "[6987 rows x 15 columns]"
      ]
     },
     "execution_count": 57,
     "metadata": {},
     "output_type": "execute_result"
    }
   ],
   "source": [
    "tmp13"
   ]
  },
  {
   "cell_type": "code",
   "execution_count": null,
   "id": "115bc83f",
   "metadata": {},
   "outputs": [],
   "source": []
  }
 ],
 "metadata": {
  "kernelspec": {
   "display_name": "Python [conda env:scanpy19]",
   "language": "python",
   "name": "conda-env-scanpy19-py"
  },
  "language_info": {
   "codemirror_mode": {
    "name": "ipython",
    "version": 3
   },
   "file_extension": ".py",
   "mimetype": "text/x-python",
   "name": "python",
   "nbconvert_exporter": "python",
   "pygments_lexer": "ipython3",
   "version": "3.10.4"
  }
 },
 "nbformat": 4,
 "nbformat_minor": 5
}
